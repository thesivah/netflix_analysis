{
 "cells": [
  {
   "cell_type": "markdown",
   "metadata": {},
   "source": [
    "# Data Analysis and Visualization of Netflix Content"
   ]
  },
  {
   "cell_type": "markdown",
   "metadata": {},
   "source": [
    "Data analysis and visualization on Netflix content are essential for strategic decision-making, audience understanding, and overall optimization of the streaming platform's content ecosystem. It empowers Netflix to stay competitive, deliver a superior user experience, and navigate the dynamic landscape of the entertainment industry."
   ]
  },
  {
   "cell_type": "markdown",
   "metadata": {},
   "source": [
    "Table of Contents:\n",
    "\n",
    "(a) Importing Libraries\n",
    "\n",
    "(b) Loading Data\n",
    "\n",
    "(c) Overview\n",
    "\n",
    "(d) Data Information & Description\n",
    "\n",
    "(e) Data Manipulation & Cleaning\n",
    "\n",
    "(f) Exploratory Data Analysis and Visualization\n",
    "\n",
    "(g) Conclusions"
   ]
  },
  {
   "cell_type": "markdown",
   "metadata": {},
   "source": [
    "## Importing Libraries\n",
    "#Here are some libraries that will be used."
   ]
  },
  {
   "cell_type": "code",
   "execution_count": 22,
   "metadata": {},
   "outputs": [],
   "source": [
    "import pandas as pd\n",
    "import seaborn as sns\n",
    "import plotly.graph_objects as go\n",
    "from plotly.offline import  iplot\n",
    "import matplotlib.pyplot as plt"
   ]
  },
  {
   "cell_type": "markdown",
   "metadata": {},
   "source": [
    "## Loading Data\n",
    "#Loading the data using the pandas library and saving in dataframe 'netflix'."
   ]
  },
  {
   "cell_type": "code",
   "execution_count": 23,
   "metadata": {},
   "outputs": [],
   "source": [
    "netflix = pd.read_csv(\"datasets/Netflix.csv\", index_col=0)"
   ]
  },
  {
   "cell_type": "markdown",
   "metadata": {},
   "source": [
    "## Overview\n",
    "#First 4 row of the dataset"
   ]
  },
  {
   "cell_type": "code",
   "execution_count": 24,
   "metadata": {},
   "outputs": [
    {
     "data": {
      "text/html": [
       "<div>\n",
       "<style scoped>\n",
       "    .dataframe tbody tr th:only-of-type {\n",
       "        vertical-align: middle;\n",
       "    }\n",
       "\n",
       "    .dataframe tbody tr th {\n",
       "        vertical-align: top;\n",
       "    }\n",
       "\n",
       "    .dataframe thead th {\n",
       "        text-align: right;\n",
       "    }\n",
       "</style>\n",
       "<table border=\"1\" class=\"dataframe\">\n",
       "  <thead>\n",
       "    <tr style=\"text-align: right;\">\n",
       "      <th></th>\n",
       "      <th>type</th>\n",
       "      <th>title</th>\n",
       "      <th>director</th>\n",
       "      <th>cast</th>\n",
       "      <th>country</th>\n",
       "      <th>date_added</th>\n",
       "      <th>release_year</th>\n",
       "      <th>rating</th>\n",
       "      <th>duration</th>\n",
       "      <th>genres</th>\n",
       "      <th>description</th>\n",
       "    </tr>\n",
       "    <tr>\n",
       "      <th>show_id</th>\n",
       "      <th></th>\n",
       "      <th></th>\n",
       "      <th></th>\n",
       "      <th></th>\n",
       "      <th></th>\n",
       "      <th></th>\n",
       "      <th></th>\n",
       "      <th></th>\n",
       "      <th></th>\n",
       "      <th></th>\n",
       "      <th></th>\n",
       "    </tr>\n",
       "  </thead>\n",
       "  <tbody>\n",
       "    <tr>\n",
       "      <th>s1</th>\n",
       "      <td>TV Show</td>\n",
       "      <td>3%</td>\n",
       "      <td>NaN</td>\n",
       "      <td>João Miguel, Bianca Comparato, Michel Gomes, R...</td>\n",
       "      <td>Brazil</td>\n",
       "      <td>14-Aug-20</td>\n",
       "      <td>2020</td>\n",
       "      <td>TV-MA</td>\n",
       "      <td>4</td>\n",
       "      <td>International TV Shows, TV Dramas, TV Sci-Fi &amp;...</td>\n",
       "      <td>In a future where the elite inhabit an island ...</td>\n",
       "    </tr>\n",
       "    <tr>\n",
       "      <th>s10</th>\n",
       "      <td>Movie</td>\n",
       "      <td>1920</td>\n",
       "      <td>Vikram Bhatt</td>\n",
       "      <td>Rajneesh Duggal, Adah Sharma, Indraneil Sengup...</td>\n",
       "      <td>India</td>\n",
       "      <td>15-Dec-17</td>\n",
       "      <td>2008</td>\n",
       "      <td>TV-MA</td>\n",
       "      <td>143</td>\n",
       "      <td>Horror Movies, International Movies, Thrillers</td>\n",
       "      <td>An architect and his wife move into a castle t...</td>\n",
       "    </tr>\n",
       "    <tr>\n",
       "      <th>s100</th>\n",
       "      <td>Movie</td>\n",
       "      <td>3 Heroines</td>\n",
       "      <td>Iman Brotoseno</td>\n",
       "      <td>Reza Rahadian, Bunga Citra Lestari, Tara Basro...</td>\n",
       "      <td>Indonesia</td>\n",
       "      <td>5-Jan-19</td>\n",
       "      <td>2016</td>\n",
       "      <td>TV-PG</td>\n",
       "      <td>124</td>\n",
       "      <td>Dramas, International Movies, Sports Movies</td>\n",
       "      <td>Three Indonesian women break records by becomi...</td>\n",
       "    </tr>\n",
       "    <tr>\n",
       "      <th>s1000</th>\n",
       "      <td>Movie</td>\n",
       "      <td>Blue Mountain State: The Rise of Thadland</td>\n",
       "      <td>Lev L. Spiro</td>\n",
       "      <td>Alan Ritchson, Darin Brooks, James Cade, Rob R...</td>\n",
       "      <td>United States</td>\n",
       "      <td>1-Mar-16</td>\n",
       "      <td>2016</td>\n",
       "      <td>R</td>\n",
       "      <td>90</td>\n",
       "      <td>Comedies</td>\n",
       "      <td>New NFL star Thad buys his old teammates' belo...</td>\n",
       "    </tr>\n",
       "  </tbody>\n",
       "</table>\n",
       "</div>"
      ],
      "text/plain": [
       "            type                                      title        director  \\\n",
       "show_id                                                                       \n",
       "s1       TV Show                                         3%             NaN   \n",
       "s10        Movie                                       1920    Vikram Bhatt   \n",
       "s100       Movie                                 3 Heroines  Iman Brotoseno   \n",
       "s1000      Movie  Blue Mountain State: The Rise of Thadland    Lev L. Spiro   \n",
       "\n",
       "                                                      cast        country  \\\n",
       "show_id                                                                     \n",
       "s1       João Miguel, Bianca Comparato, Michel Gomes, R...         Brazil   \n",
       "s10      Rajneesh Duggal, Adah Sharma, Indraneil Sengup...          India   \n",
       "s100     Reza Rahadian, Bunga Citra Lestari, Tara Basro...      Indonesia   \n",
       "s1000    Alan Ritchson, Darin Brooks, James Cade, Rob R...  United States   \n",
       "\n",
       "        date_added  release_year rating  duration  \\\n",
       "show_id                                             \n",
       "s1       14-Aug-20          2020  TV-MA         4   \n",
       "s10      15-Dec-17          2008  TV-MA       143   \n",
       "s100      5-Jan-19          2016  TV-PG       124   \n",
       "s1000     1-Mar-16          2016      R        90   \n",
       "\n",
       "                                                    genres  \\\n",
       "show_id                                                      \n",
       "s1       International TV Shows, TV Dramas, TV Sci-Fi &...   \n",
       "s10         Horror Movies, International Movies, Thrillers   \n",
       "s100           Dramas, International Movies, Sports Movies   \n",
       "s1000                                             Comedies   \n",
       "\n",
       "                                               description  \n",
       "show_id                                                     \n",
       "s1       In a future where the elite inhabit an island ...  \n",
       "s10      An architect and his wife move into a castle t...  \n",
       "s100     Three Indonesian women break records by becomi...  \n",
       "s1000    New NFL star Thad buys his old teammates' belo...  "
      ]
     },
     "execution_count": 24,
     "metadata": {},
     "output_type": "execute_result"
    }
   ],
   "source": [
    "netflix.head(4)"
   ]
  },
  {
   "cell_type": "markdown",
   "metadata": {},
   "source": [
    "#Last 4 row of the dataset"
   ]
  },
  {
   "cell_type": "code",
   "execution_count": 25,
   "metadata": {},
   "outputs": [
    {
     "data": {
      "text/html": [
       "<div>\n",
       "<style scoped>\n",
       "    .dataframe tbody tr th:only-of-type {\n",
       "        vertical-align: middle;\n",
       "    }\n",
       "\n",
       "    .dataframe tbody tr th {\n",
       "        vertical-align: top;\n",
       "    }\n",
       "\n",
       "    .dataframe thead th {\n",
       "        text-align: right;\n",
       "    }\n",
       "</style>\n",
       "<table border=\"1\" class=\"dataframe\">\n",
       "  <thead>\n",
       "    <tr style=\"text-align: right;\">\n",
       "      <th></th>\n",
       "      <th>type</th>\n",
       "      <th>title</th>\n",
       "      <th>director</th>\n",
       "      <th>cast</th>\n",
       "      <th>country</th>\n",
       "      <th>date_added</th>\n",
       "      <th>release_year</th>\n",
       "      <th>rating</th>\n",
       "      <th>duration</th>\n",
       "      <th>genres</th>\n",
       "      <th>description</th>\n",
       "    </tr>\n",
       "    <tr>\n",
       "      <th>show_id</th>\n",
       "      <th></th>\n",
       "      <th></th>\n",
       "      <th></th>\n",
       "      <th></th>\n",
       "      <th></th>\n",
       "      <th></th>\n",
       "      <th></th>\n",
       "      <th></th>\n",
       "      <th></th>\n",
       "      <th></th>\n",
       "      <th></th>\n",
       "    </tr>\n",
       "  </thead>\n",
       "  <tbody>\n",
       "    <tr>\n",
       "      <th>s996</th>\n",
       "      <td>TV Show</td>\n",
       "      <td>Blue Exorcist</td>\n",
       "      <td>NaN</td>\n",
       "      <td>Nobuhiko Okamoto, Jun Fukuyama, Kana Hanazawa,...</td>\n",
       "      <td>Japan</td>\n",
       "      <td>1-Sep-20</td>\n",
       "      <td>2017</td>\n",
       "      <td>TV-MA</td>\n",
       "      <td>2</td>\n",
       "      <td>Anime Series, International TV Shows</td>\n",
       "      <td>Determined to throw off the curse of being Sat...</td>\n",
       "    </tr>\n",
       "    <tr>\n",
       "      <th>s997</th>\n",
       "      <td>Movie</td>\n",
       "      <td>Blue Is the Warmest Color</td>\n",
       "      <td>Abdellatif Kechiche</td>\n",
       "      <td>Léa Seydoux, Adèle Exarchopoulos, Salim Kechio...</td>\n",
       "      <td>France, Belgium, Spain</td>\n",
       "      <td>26-Aug-16</td>\n",
       "      <td>2013</td>\n",
       "      <td>NC-17</td>\n",
       "      <td>180</td>\n",
       "      <td>Dramas, Independent Movies, International Movies</td>\n",
       "      <td>Determined to fall in love, 15-year-old Adele ...</td>\n",
       "    </tr>\n",
       "    <tr>\n",
       "      <th>s998</th>\n",
       "      <td>Movie</td>\n",
       "      <td>Blue Jasmine</td>\n",
       "      <td>Woody Allen</td>\n",
       "      <td>Cate Blanchett, Sally Hawkins, Alec Baldwin, L...</td>\n",
       "      <td>United States</td>\n",
       "      <td>8-Mar-19</td>\n",
       "      <td>2013</td>\n",
       "      <td>PG-13</td>\n",
       "      <td>98</td>\n",
       "      <td>Comedies, Dramas, Independent Movies</td>\n",
       "      <td>The high life leads to high anxiety for a fash...</td>\n",
       "    </tr>\n",
       "    <tr>\n",
       "      <th>s999</th>\n",
       "      <td>Movie</td>\n",
       "      <td>Blue Jay</td>\n",
       "      <td>Alex Lehmann</td>\n",
       "      <td>Sarah Paulson, Mark Duplass, Clu Gulager</td>\n",
       "      <td>United States</td>\n",
       "      <td>6-Dec-16</td>\n",
       "      <td>2016</td>\n",
       "      <td>TV-MA</td>\n",
       "      <td>81</td>\n",
       "      <td>Dramas, Independent Movies, Romantic Movies</td>\n",
       "      <td>Two former high school sweethearts unexpectedl...</td>\n",
       "    </tr>\n",
       "  </tbody>\n",
       "</table>\n",
       "</div>"
      ],
      "text/plain": [
       "            type                      title             director  \\\n",
       "show_id                                                            \n",
       "s996     TV Show              Blue Exorcist                  NaN   \n",
       "s997       Movie  Blue Is the Warmest Color  Abdellatif Kechiche   \n",
       "s998       Movie               Blue Jasmine          Woody Allen   \n",
       "s999       Movie                   Blue Jay         Alex Lehmann   \n",
       "\n",
       "                                                      cast  \\\n",
       "show_id                                                      \n",
       "s996     Nobuhiko Okamoto, Jun Fukuyama, Kana Hanazawa,...   \n",
       "s997     Léa Seydoux, Adèle Exarchopoulos, Salim Kechio...   \n",
       "s998     Cate Blanchett, Sally Hawkins, Alec Baldwin, L...   \n",
       "s999              Sarah Paulson, Mark Duplass, Clu Gulager   \n",
       "\n",
       "                        country date_added  release_year rating  duration  \\\n",
       "show_id                                                                     \n",
       "s996                      Japan   1-Sep-20          2017  TV-MA         2   \n",
       "s997     France, Belgium, Spain  26-Aug-16          2013  NC-17       180   \n",
       "s998              United States   8-Mar-19          2013  PG-13        98   \n",
       "s999              United States   6-Dec-16          2016  TV-MA        81   \n",
       "\n",
       "                                                   genres  \\\n",
       "show_id                                                     \n",
       "s996                 Anime Series, International TV Shows   \n",
       "s997     Dramas, Independent Movies, International Movies   \n",
       "s998                 Comedies, Dramas, Independent Movies   \n",
       "s999          Dramas, Independent Movies, Romantic Movies   \n",
       "\n",
       "                                               description  \n",
       "show_id                                                     \n",
       "s996     Determined to throw off the curse of being Sat...  \n",
       "s997     Determined to fall in love, 15-year-old Adele ...  \n",
       "s998     The high life leads to high anxiety for a fash...  \n",
       "s999     Two former high school sweethearts unexpectedl...  "
      ]
     },
     "execution_count": 25,
     "metadata": {},
     "output_type": "execute_result"
    }
   ],
   "source": [
    "netflix.tail(4)"
   ]
  },
  {
   "cell_type": "markdown",
   "metadata": {},
   "source": [
    "## Data Information & Description"
   ]
  },
  {
   "cell_type": "code",
   "execution_count": 26,
   "metadata": {},
   "outputs": [
    {
     "data": {
      "text/html": [
       "<div>\n",
       "<style scoped>\n",
       "    .dataframe tbody tr th:only-of-type {\n",
       "        vertical-align: middle;\n",
       "    }\n",
       "\n",
       "    .dataframe tbody tr th {\n",
       "        vertical-align: top;\n",
       "    }\n",
       "\n",
       "    .dataframe thead th {\n",
       "        text-align: right;\n",
       "    }\n",
       "</style>\n",
       "<table border=\"1\" class=\"dataframe\">\n",
       "  <thead>\n",
       "    <tr style=\"text-align: right;\">\n",
       "      <th></th>\n",
       "      <th>release_year</th>\n",
       "      <th>duration</th>\n",
       "    </tr>\n",
       "  </thead>\n",
       "  <tbody>\n",
       "    <tr>\n",
       "      <th>count</th>\n",
       "      <td>7787.000000</td>\n",
       "      <td>7787.000000</td>\n",
       "    </tr>\n",
       "    <tr>\n",
       "      <th>mean</th>\n",
       "      <td>2013.932580</td>\n",
       "      <td>69.122769</td>\n",
       "    </tr>\n",
       "    <tr>\n",
       "      <th>std</th>\n",
       "      <td>8.757395</td>\n",
       "      <td>50.950743</td>\n",
       "    </tr>\n",
       "    <tr>\n",
       "      <th>min</th>\n",
       "      <td>1925.000000</td>\n",
       "      <td>1.000000</td>\n",
       "    </tr>\n",
       "    <tr>\n",
       "      <th>25%</th>\n",
       "      <td>2013.000000</td>\n",
       "      <td>2.000000</td>\n",
       "    </tr>\n",
       "    <tr>\n",
       "      <th>50%</th>\n",
       "      <td>2017.000000</td>\n",
       "      <td>88.000000</td>\n",
       "    </tr>\n",
       "    <tr>\n",
       "      <th>75%</th>\n",
       "      <td>2018.000000</td>\n",
       "      <td>106.000000</td>\n",
       "    </tr>\n",
       "    <tr>\n",
       "      <th>max</th>\n",
       "      <td>2021.000000</td>\n",
       "      <td>312.000000</td>\n",
       "    </tr>\n",
       "  </tbody>\n",
       "</table>\n",
       "</div>"
      ],
      "text/plain": [
       "       release_year     duration\n",
       "count   7787.000000  7787.000000\n",
       "mean    2013.932580    69.122769\n",
       "std        8.757395    50.950743\n",
       "min     1925.000000     1.000000\n",
       "25%     2013.000000     2.000000\n",
       "50%     2017.000000    88.000000\n",
       "75%     2018.000000   106.000000\n",
       "max     2021.000000   312.000000"
      ]
     },
     "execution_count": 26,
     "metadata": {},
     "output_type": "execute_result"
    }
   ],
   "source": [
    "netflix.describe()"
   ]
  },
  {
   "cell_type": "code",
   "execution_count": 27,
   "metadata": {},
   "outputs": [
    {
     "name": "stdout",
     "output_type": "stream",
     "text": [
      "<class 'pandas.core.frame.DataFrame'>\n",
      "Index: 7787 entries, s1 to s999\n",
      "Data columns (total 11 columns):\n",
      " #   Column        Non-Null Count  Dtype \n",
      "---  ------        --------------  ----- \n",
      " 0   type          7787 non-null   object\n",
      " 1   title         7787 non-null   object\n",
      " 2   director      5398 non-null   object\n",
      " 3   cast          7069 non-null   object\n",
      " 4   country       7280 non-null   object\n",
      " 5   date_added    7777 non-null   object\n",
      " 6   release_year  7787 non-null   int64 \n",
      " 7   rating        7780 non-null   object\n",
      " 8   duration      7787 non-null   int64 \n",
      " 9   genres        7787 non-null   object\n",
      " 10  description   7787 non-null   object\n",
      "dtypes: int64(2), object(9)\n",
      "memory usage: 730.0+ KB\n"
     ]
    }
   ],
   "source": [
    "netflix.info()"
   ]
  },
  {
   "cell_type": "markdown",
   "metadata": {},
   "source": [
    "#Total sum of all null values present in the columns"
   ]
  },
  {
   "cell_type": "code",
   "execution_count": 28,
   "metadata": {},
   "outputs": [
    {
     "data": {
      "text/plain": [
       "type               0\n",
       "title              0\n",
       "director        2389\n",
       "cast             718\n",
       "country          507\n",
       "date_added        10\n",
       "release_year       0\n",
       "rating             7\n",
       "duration           0\n",
       "genres             0\n",
       "description        0\n",
       "dtype: int64"
      ]
     },
     "execution_count": 28,
     "metadata": {},
     "output_type": "execute_result"
    }
   ],
   "source": [
    "netflix.isna().sum()"
   ]
  },
  {
   "cell_type": "markdown",
   "metadata": {},
   "source": [
    "## Data Manipulation & Cleaning"
   ]
  },
  {
   "cell_type": "markdown",
   "metadata": {},
   "source": [
    "### Droping missing values(null values)"
   ]
  },
  {
   "cell_type": "markdown",
   "metadata": {},
   "source": [
    "#Since director column has the maximum number of null value therefore it is better to drop the \n",
    " complete column as no helpful insight will result in output.\n"
   ]
  },
  {
   "cell_type": "code",
   "execution_count": 29,
   "metadata": {},
   "outputs": [],
   "source": [
    "netflix.drop(['director'], axis=1, inplace=True)"
   ]
  },
  {
   "cell_type": "markdown",
   "metadata": {},
   "source": [
    "#'rating' and 'date added' column has few null values so I removed any rows that have missing values in those columns."
   ]
  },
  {
   "cell_type": "code",
   "execution_count": 30,
   "metadata": {},
   "outputs": [],
   "source": [
    "netflix.dropna(subset=['rating','date_added'],inplace=True)"
   ]
  },
  {
   "cell_type": "markdown",
   "metadata": {},
   "source": [
    "### Filling missing values(null values)"
   ]
  },
  {
   "cell_type": "markdown",
   "metadata": {},
   "source": [
    "#Since the null values in 'cast' and 'country' is neither less nor far to much therefore I replaced the null \n",
    "values in the ‘cast’ column with cast unavailable and in the ‘country’ column with country unavailable."
   ]
  },
  {
   "cell_type": "code",
   "execution_count": 31,
   "metadata": {},
   "outputs": [],
   "source": [
    "netflix.country.fillna('country unavailable', inplace=True)\n",
    "netflix.cast.fillna('cast unavailable', inplace=True)"
   ]
  },
  {
   "cell_type": "markdown",
   "metadata": {},
   "source": [
    "### Converting data type"
   ]
  },
  {
   "cell_type": "markdown",
   "metadata": {},
   "source": [
    "#Since date type is object so converted date type to date-time type for better analysis"
   ]
  },
  {
   "cell_type": "code",
   "execution_count": 32,
   "metadata": {},
   "outputs": [],
   "source": [
    "netflix['date_added'] = pd.to_datetime(netflix['date_added'], format='mixed',yearfirst=False,dayfirst=True)"
   ]
  },
  {
   "cell_type": "markdown",
   "metadata": {},
   "source": [
    "#The data is cleaned and no null value is present in the data, the dataset is now ready for exploration and analysis"
   ]
  },
  {
   "cell_type": "code",
   "execution_count": 33,
   "metadata": {},
   "outputs": [
    {
     "data": {
      "text/plain": [
       "type            0\n",
       "title           0\n",
       "cast            0\n",
       "country         0\n",
       "date_added      0\n",
       "release_year    0\n",
       "rating          0\n",
       "duration        0\n",
       "genres          0\n",
       "description     0\n",
       "dtype: int64"
      ]
     },
     "execution_count": 33,
     "metadata": {},
     "output_type": "execute_result"
    }
   ],
   "source": [
    "netflix.isna().sum() "
   ]
  },
  {
   "cell_type": "markdown",
   "metadata": {},
   "source": [
    "## Exploratory Data Analysis and Visualization"
   ]
  },
  {
   "cell_type": "markdown",
   "metadata": {},
   "source": [
    "#Copying netflix data into sample dataframe for further analysis without harming the original clean data"
   ]
  },
  {
   "cell_type": "code",
   "execution_count": 34,
   "metadata": {},
   "outputs": [
    {
     "data": {
      "text/html": [
       "<div>\n",
       "<style scoped>\n",
       "    .dataframe tbody tr th:only-of-type {\n",
       "        vertical-align: middle;\n",
       "    }\n",
       "\n",
       "    .dataframe tbody tr th {\n",
       "        vertical-align: top;\n",
       "    }\n",
       "\n",
       "    .dataframe thead th {\n",
       "        text-align: right;\n",
       "    }\n",
       "</style>\n",
       "<table border=\"1\" class=\"dataframe\">\n",
       "  <thead>\n",
       "    <tr style=\"text-align: right;\">\n",
       "      <th></th>\n",
       "      <th>type</th>\n",
       "      <th>title</th>\n",
       "      <th>cast</th>\n",
       "      <th>country</th>\n",
       "      <th>date_added</th>\n",
       "      <th>release_year</th>\n",
       "      <th>rating</th>\n",
       "      <th>duration</th>\n",
       "      <th>genres</th>\n",
       "      <th>description</th>\n",
       "    </tr>\n",
       "    <tr>\n",
       "      <th>show_id</th>\n",
       "      <th></th>\n",
       "      <th></th>\n",
       "      <th></th>\n",
       "      <th></th>\n",
       "      <th></th>\n",
       "      <th></th>\n",
       "      <th></th>\n",
       "      <th></th>\n",
       "      <th></th>\n",
       "      <th></th>\n",
       "    </tr>\n",
       "  </thead>\n",
       "  <tbody>\n",
       "    <tr>\n",
       "      <th>s1</th>\n",
       "      <td>TV Show</td>\n",
       "      <td>3%</td>\n",
       "      <td>João Miguel, Bianca Comparato, Michel Gomes, R...</td>\n",
       "      <td>Brazil</td>\n",
       "      <td>2020-08-14</td>\n",
       "      <td>2020</td>\n",
       "      <td>TV-MA</td>\n",
       "      <td>4</td>\n",
       "      <td>International TV Shows, TV Dramas, TV Sci-Fi &amp;...</td>\n",
       "      <td>In a future where the elite inhabit an island ...</td>\n",
       "    </tr>\n",
       "    <tr>\n",
       "      <th>s10</th>\n",
       "      <td>Movie</td>\n",
       "      <td>1920</td>\n",
       "      <td>Rajneesh Duggal, Adah Sharma, Indraneil Sengup...</td>\n",
       "      <td>India</td>\n",
       "      <td>2017-12-15</td>\n",
       "      <td>2008</td>\n",
       "      <td>TV-MA</td>\n",
       "      <td>143</td>\n",
       "      <td>Horror Movies, International Movies, Thrillers</td>\n",
       "      <td>An architect and his wife move into a castle t...</td>\n",
       "    </tr>\n",
       "  </tbody>\n",
       "</table>\n",
       "</div>"
      ],
      "text/plain": [
       "            type title                                               cast  \\\n",
       "show_id                                                                     \n",
       "s1       TV Show    3%  João Miguel, Bianca Comparato, Michel Gomes, R...   \n",
       "s10        Movie  1920  Rajneesh Duggal, Adah Sharma, Indraneil Sengup...   \n",
       "\n",
       "        country date_added  release_year rating  duration  \\\n",
       "show_id                                                     \n",
       "s1       Brazil 2020-08-14          2020  TV-MA         4   \n",
       "s10       India 2017-12-15          2008  TV-MA       143   \n",
       "\n",
       "                                                    genres  \\\n",
       "show_id                                                      \n",
       "s1       International TV Shows, TV Dramas, TV Sci-Fi &...   \n",
       "s10         Horror Movies, International Movies, Thrillers   \n",
       "\n",
       "                                               description  \n",
       "show_id                                                     \n",
       "s1       In a future where the elite inhabit an island ...  \n",
       "s10      An architect and his wife move into a castle t...  "
      ]
     },
     "execution_count": 34,
     "metadata": {},
     "output_type": "execute_result"
    }
   ],
   "source": [
    "sample = netflix \n",
    "sample.head(2)"
   ]
  },
  {
   "cell_type": "markdown",
   "metadata": {},
   "source": [
    "### The Percentage of Content Types"
   ]
  },
  {
   "cell_type": "code",
   "execution_count": 35,
   "metadata": {},
   "outputs": [
    {
     "name": "stdout",
     "output_type": "stream",
     "text": [
      "<class 'pandas.core.frame.DataFrame'>\n",
      "Index: 7770 entries, s1 to s999\n",
      "Data columns (total 10 columns):\n",
      " #   Column        Non-Null Count  Dtype         \n",
      "---  ------        --------------  -----         \n",
      " 0   type          7770 non-null   object        \n",
      " 1   title         7770 non-null   object        \n",
      " 2   cast          7770 non-null   object        \n",
      " 3   country       7770 non-null   object        \n",
      " 4   date_added    7770 non-null   datetime64[ns]\n",
      " 5   release_year  7770 non-null   int64         \n",
      " 6   rating        7770 non-null   object        \n",
      " 7   duration      7770 non-null   int64         \n",
      " 8   genres        7770 non-null   object        \n",
      " 9   description   7770 non-null   object        \n",
      "dtypes: datetime64[ns](1), int64(2), object(7)\n",
      "memory usage: 667.7+ KB\n"
     ]
    }
   ],
   "source": [
    "sample.info()"
   ]
  },
  {
   "cell_type": "code",
   "execution_count": 36,
   "metadata": {},
   "outputs": [
    {
     "data": {
      "image/png": "[encoded data removed]",
      "text/plain": [
       "<Figure size 1200x800 with 1 Axes>"
      ]
     },
     "metadata": {},
     "output_type": "display_data"
    }
   ],
   "source": [
    "plt.figure(figsize=(12,8))\n",
    "plt.title(\"The Percentage of Content Types \", fontsize=21)\n",
    "plt.pie(sample.type.value_counts(),explode=(0.025,0.025), labels=sample.type.value_counts().index, colors=['red','grey'],  autopct='%1.1f%%', startangle=180)\n",
    "plt.show()"
   ]
  },
  {
   "cell_type": "markdown",
   "metadata": {},
   "source": [
    "Observing the presented chart, it is evident that movies constitute 69.1% of the overall content, whereas TV shows make up 30.9% of the total content. This implies that out of a total of 7,787 content titles, there are 5,381 movies and 2,406 TV shows."
   ]
  },
  {
   "cell_type": "markdown",
   "metadata": {},
   "source": [
    "### Distribution Map of Producing Countries"
   ]
  },
  {
   "cell_type": "code",
   "execution_count": 37,
   "metadata": {},
   "outputs": [
    {
     "data": {
      "application/vnd.plotly.v1+json": {
       "config": {
        "linkText": "Export to plot.ly",
        "plotlyServerURL": "https://plot.ly",
        "showLink": false
       },
       "data": [
        {
         "locationmode": "country names",
         "locations": [
          "United States",
          "India",
          "United Kingdom",
          "Japan",
          "South Korea",
          "Canada",
          "Spain",
          "France",
          "Egypt",
          "Mexico",
          "Turkey",
          "Australia",
          "Taiwan",
          "Brazil",
          "Philippines",
          "Nigeria",
          "Indonesia",
          "United Kingdom, United States",
          "Germany",
          "United States, Canada",
          "China",
          "Thailand",
          "Hong Kong",
          "Argentina",
          "Canada, United States",
          "Italy",
          "United States, United Kingdom",
          "Colombia",
          "France, Belgium",
          "South Africa",
          "Singapore",
          "Malaysia",
          "Poland",
          "Pakistan",
          "Hong Kong, China",
          "Netherlands",
          "Russia",
          "China, Hong Kong",
          "United States, France",
          "Lebanon",
          "Chile",
          "Mexico, United States",
          "Denmark",
          "United States, Japan",
          "United Arab Emirates",
          "United States, Germany",
          "Israel",
          "Ireland",
          "United States, Australia",
          "Norway",
          "New Zealand",
          "United States, Mexico",
          "Australia, United States",
          "Germany, United States",
          "Sweden",
          "India, United States",
          "Japan, United States",
          "United States, India",
          "Belgium",
          "Argentina, Spain",
          "United States, China",
          "Saudi Arabia",
          "United States, France, Japan",
          "Kuwait",
          "United Kingdom, Canada, United States",
          "France, United States",
          "Romania",
          "United Kingdom, France",
          "India, France",
          "United States, Italy",
          "Italy, France",
          "United States, Czech Republic",
          "Vietnam",
          "Spain, France",
          "South Korea, United States",
          "United Kingdom, France, United States",
          "United Kingdom, Canada",
          "Austria",
          "United Kingdom, United States, Spain, Germany, Greece, Canada",
          "Hong Kong, United States",
          "South Africa, United States",
          "Peru",
          "Hungary",
          "United Kingdom, Japan, United States",
          "Poland, United States",
          "United States, Spain",
          "United Kingdom, Germany",
          "Iceland",
          "Mexico, Spain",
          "United States, United Kingdom, Australia",
          "France, Egypt",
          "Ghana",
          "United States, New Zealand",
          "France, United Kingdom, United States",
          "Israel, United States",
          "United States, Sweden",
          "Bulgaria, United States",
          "Canada, United States, United Kingdom",
          "Sweden, United States",
          "United States, United Kingdom, France",
          "United States, Hong Kong",
          "United States, South Africa",
          "United States, Ireland",
          "United States, Bulgaria",
          "United States, United Arab Emirates",
          "United States, Russia",
          "France, Canada",
          "Spain, Germany",
          "Belgium, France",
          "Italy, United States",
          "Denmark, United States",
          "Uruguay",
          "New Zealand, United States",
          "Australia, Canada",
          "Czech Republic, United States",
          "Spain, Italy",
          "Lebanon, Canada, France",
          "Thailand, United States",
          "Netherlands, Belgium",
          "Canada, Australia",
          "United Kingdom, Nigeria",
          "Brazil, France",
          "Spain, Argentina",
          "United Kingdom, India, United States",
          "Spain, Mexico",
          "United Arab Emirates, United States",
          "Egypt, France",
          "Singapore, United States",
          "Hong Kong, China, United States",
          "Switzerland",
          "Ireland, United Kingdom, United States",
          "United States, Chile",
          "Australia, United Arab Emirates",
          "Germany, United Kingdom",
          "United Kingdom, Italy",
          "Colombia, Mexico, United States",
          "United States, Argentina",
          "United States, Japan, Canada",
          "Bangladesh",
          "Spain, United Kingdom",
          "Canada, India",
          "United Kingdom, Ireland",
          "United States, United Kingdom, Germany",
          "Canada, United States, France",
          "United States, Canada, United Kingdom",
          "Turkey, United States",
          "Ukraine",
          "India, Soviet Union",
          "China, Canada, United States",
          "Serbia, United States",
          "Canada, United Kingdom, United States",
          "Pakistan, United States",
          "United States, Greece",
          "United Kingdom, India",
          "United Kingdom, United States, Australia",
          "Kenya",
          "Ireland, United Kingdom",
          "France, South Korea, Japan",
          "China, United States",
          "United States, Germany, Canada",
          "Indonesia, Singapore",
          "Canada, United Kingdom",
          "India, Germany",
          "United States, South Korea, China",
          "United States, Canada, China",
          "Canada, Norway",
          "United States, Hungary, Ireland, Canada",
          "Canada, France",
          "Pakistan, Norway, United States",
          "Ireland, Canada, Luxembourg, United States, United Kingdom, Philippines, India",
          "United States, Czech Republic, United Kingdom",
          "Ghana, United States",
          "Israel, Germany",
          "United Kingdom, Malawi",
          "Chile, France",
          "United States, United Kingdom, France, Germany, Japan",
          "United States, New Zealand, United Kingdom",
          "Lebanon, United States, United Arab Emirates",
          "India, United Kingdom",
          "United States, Kazakhstan",
          "Argentina, France, United States, Germany, Qatar",
          "United States, Germany, United Kingdom",
          "United States, Germany, United Kingdom, Italy",
          "Finland, United States",
          "Mexico, France",
          "Spain, France, Uruguay",
          "France, Belgium, United States",
          "France, Canada, United States",
          "Denmark, France, Poland",
          "France, Senegal, Belgium",
          "United Kingdom, Russia",
          "Denmark, Spain",
          "France, Belgium, Luxembourg, Romania, Canada, United States",
          "Brazil, United Kingdom",
          "Spain, France, Canada",
          "Canada, Germany, South Africa",
          "Spain, Thailand, United States",
          "United Kingdom, Canada, France, United States",
          "United States, India, United Arab Emirates",
          "Canada, Belgium",
          "Spain, Canada, United States",
          "United States, China, Canada",
          "United States, United Kingdom, Morocco",
          "United Kingdom, United States, Morocco",
          "United States, Sweden, Norway",
          "Taiwan, Malaysia",
          "Sweden, Netherlands",
          "United Kingdom, China, United States, India",
          "United States, Greece, United Kingdom",
          "Norway, Germany, Sweden",
          "Romania, France, Switzerland, Germany",
          "United Kingdom, Lithuania",
          "United Kingdom, Germany, United States, France",
          "Bulgaria, United States, Spain, Canada",
          "Czech Republic, Slovakia",
          "Argentina, Chile",
          "United Kingdom, France, Belgium, Canada, United States",
          "Greece, United States",
          "Finland, France",
          "Austria, United States",
          "United Kingdom, United States, Germany, Denmark, Belgium, Japan",
          "United States, Malta, France, United Kingdom",
          "France, Germany",
          "Israel, Germany, Poland, Luxembourg, Belgium, France, United States",
          "Indonesia, South Korea, Singapore",
          "Cyprus",
          "Australia, United Kingdom",
          "Belarus",
          "United States, Germany, Australia",
          "United States, United Kingdom, Spain, South Korea",
          "Hong Kong, Taiwan",
          "Sweden, United Kingdom, Finland",
          "United States, United Kingdom, Canada, Japan",
          "Brazil, Netherlands, United States, Colombia, Austria, Germany",
          "United Kingdom, Canada, United States, Germany",
          "Australia, India",
          "Austria, Czech Republic",
          "South Africa, Angola",
          "Australia, France, Ireland",
          "Israel, Germany, France",
          "Senegal",
          "Spain, Belgium",
          "China, Spain, South Korea, United States",
          "Guatemala",
          "Ireland, Canada, United Kingdom, United States",
          "India, Canada",
          "United States, Uruguay",
          "Finland",
          "Ireland, Canada",
          "Singapore, Malaysia",
          "Peru, Germany, Norway",
          "Germany, France, United States, Canada, United Kingdom",
          "United Kingdom, United States, Canada",
          "Canada, Mexico, Germany, South Africa",
          "Singapore, Japan, France",
          "South Korea, Canada, United States, China",
          "Norway, Denmark",
          "South Korea, China, United States",
          "Portugal, Spain",
          "Denmark, United Kingdom, Sweden",
          "United Kingdom, New Zealand",
          "United Kingdom, France, Canada, Belgium, United States",
          "United States, Denmark",
          "United States, Israel, United Kingdom, Canada",
          "France, United States, Canada",
          "Australia, United Kingdom, United States, New Zealand, Italy, France",
          "United States, Canada, Ireland",
          "Jamaica, United States",
          "United States, Hungary",
          "India, United Kingdom, China, Canada, Japan, South Korea, United States",
          "Australia, United Kingdom, Canada",
          "Czech Republic, United Kingdom, France",
          "South Korea, Czech Republic",
          "United Kingdom, France, Germany, United States",
          "China, Hong Kong, United States",
          "United Kingdom, China",
          "France, Canada, Belgium",
          "Thailand, Canada, United States",
          "Switzerland, United States",
          "United States, Israel, Italy, South Africa",
          "India, Malaysia",
          "United States, Colombia",
          "Canada, France, United States",
          "Italy, France, Switzerland",
          "United States, Germany, United Kingdom, Australia",
          "South Africa, United States, Germany",
          "United Kingdom, Finland, Germany",
          "Italy, South Africa, West Germany, Australia, United States",
          "United States, United Kingdom, Canada, China",
          "India, Germany, France",
          "Chile, Peru",
          "United Kingdom, Hungary, Australia",
          "United Kingdom, China, United States",
          "Uruguay, Argentina, Germany, Spain",
          "Germany, United States, United Kingdom, Canada",
          "Peru, United States, United Kingdom",
          "Saudi Arabia, United Arab Emirates",
          "United Kingdom, France, United States, Belgium",
          "France, Norway, Lebanon, Belgium",
          "Austria, Iraq, United States",
          "India, Australia",
          "United Kingdom, Ireland, United States",
          "United States, Brazil, India, Uganda, China",
          "France, Brazil, Spain, Belgium",
          "Saudi Arabia, Netherlands, Germany, Jordan, United Arab Emirates, United States",
          "United Kingdom,",
          "India, Pakistan",
          "United Kingdom, Belgium",
          "United Kingdom, India, Sweden",
          "Lebanon, Qatar",
          "Romania, United Kingdom",
          "United Kingdom, Germany, France, United States",
          "Belgium, Netherlands",
          "Switzerland, United Kingdom, United States",
          "United Kingdom, Jordan, Qatar, Iran",
          "France, Lebanon, United Kingdom",
          "Australia, Armenia, Japan, Jordan, Mexico, Mongolia, New Zealand, Philippines, South Africa, Sweden, United States, Uruguay",
          "United States, Brazil, South Korea, Mexico, Japan, Germany",
          "Canada, United States, India, United Kingdom",
          "United Kingdom, South Africa, Australia, United States",
          "United Kingdom, Namibia, South Africa, Zimbabwe, United States",
          "Thailand, China, United States",
          "France, Luxembourg, United States",
          "United Kingdom, Spain",
          "Canada, India, Thailand, United States, United Arab Emirates",
          "Uruguay, Spain, Mexico",
          "Argentina, United States",
          "Germany, Jordan, Netherlands",
          "United States, France, Serbia",
          "United Kingdom, Russia, United States",
          "Russia, United States",
          "Saudi Arabia, Syria, Egypt, Lebanon, Kuwait",
          "Ireland, Luxembourg, Belgium",
          "Philippines, Qatar",
          "Turkey, India",
          "South Africa, China, United States",
          "India, Iran",
          "United States, Canada, Indonesia, United Kingdom, China, Singapore",
          "South Korea, China",
          "Denmark, Sweden, Israel, United States",
          "Romania, Bulgaria, Hungary",
          "Sweden, Czech Republic, United Kingdom, Denmark, Netherlands",
          "United Arab Emirates, Jordan",
          "United States, France, South Korea, Indonesia",
          "Japan, Canada",
          "Mexico, Finland",
          "Croatia, Slovenia, Serbia, Montenegro",
          "Namibia",
          "Russia, Spain",
          "Egypt, Austria, United States",
          "Norway, Denmark, Netherlands, Sweden",
          "United Kingdom, Ukraine, United States",
          "France, Netherlands, South Africa, Finland",
          "United States, East Germany, West Germany",
          "United Kingdom, Brazil, Germany",
          "United Kingdom, United States, Czech Republic",
          "Lebanon, France",
          "Canada, Japan, Netherlands",
          "Ireland, France, Iceland, United States, Mexico, Belgium, United Kingdom, Hong Kong",
          "Somalia, Kenya, Sudan, South Africa, United States",
          "Croatia",
          "France, Iran, United States",
          "Canada, South Korea, United States",
          "Indonesia, United States",
          "Spain, Switzerland",
          "Australia, New Zealand",
          "Belgium, United Kingdom, United States",
          "United States, Iceland",
          "France, United States, Mexico",
          "Germany, Italy",
          "Chile, Spain, Argentina, Germany",
          "United States, Germany, Mexico",
          "Italy, Belgium",
          "United States, Australia, South Africa, United Kingdom",
          "United Kingdom, Germany, United States",
          "Argentina, Uruguay, Spain, France",
          "United Arab Emirates, United Kingdom, India",
          "Denmark, Indonesia, Finland, Norway, United Kingdom, Israel, France, United States, Germany, Netherlands",
          "Ireland, United Kingdom, Greece, France, Netherlands",
          "France, Lebanon",
          "Netherlands, Germany, Denmark, United Kingdom",
          "France, Canada, Italy, United States, China",
          "Norway, Germany",
          "United Kingdom, Italy, Israel, Peru, United States",
          "Paraguay, Argentina",
          "Canada, Nigeria",
          "Belgium, Ireland, Netherlands, Germany, Afghanistan",
          "Spain, United States",
          "United States, Canada, Japan, Panama",
          "United Kingdom, Spain, Belgium",
          "United States, France, Italy, United Kingdom",
          "United Kingdom, Canada, Japan",
          "United States, Venezuela",
          "Germany, United States, Italy",
          "Spain, Italy, Argentina",
          "Mexico, Netherlands",
          "United Kingdom, Australia, Canada, United States",
          "Japan, Canada, United States",
          "United Arab Emirates, Romania",
          "United States, Poland",
          "New Zealand, United Kingdom, Australia",
          "Ireland, Canada, United States, United Kingdom",
          "United States, United Kingdom, India",
          "Georgia",
          "United Kingdom, Spain, United States, Germany",
          "Serbia, South Korea, Slovenia",
          "United Kingdom, France, United States, Belgium, Luxembourg, China, Germany",
          "United Kingdom, Germany, United Arab Emirates, New Zealand",
          "Hong Kong, China, Singapore",
          "United Kingdom, Egypt, United States",
          "United States, France, Canada, Belgium",
          "United States, Belgium, Canada",
          "India, United Kingdom, Canada, United States",
          "Spain, France, Canada, United States",
          "Canada, Germany",
          "Ireland, South Africa",
          "Germany, Canada, United States",
          "Australia, United Kingdom, United Arab Emirates, Canada",
          "Denmark, United Kingdom, South Africa, Sweden, Belgium",
          "Iceland, Sweden, Belgium",
          "Netherlands, Denmark, France, Germany",
          "United States, Mexico, Spain, Malta",
          "United Kingdom, France, Belgium",
          "China, South Korea, United States",
          "Switzerland, France, Belgium, United States",
          "India, Japan",
          "United States, Spain, Germany",
          "United Kingdom, United States, France, Germany",
          "Indonesia, United Kingdom",
          "United Kingdom, United States, France",
          "Canada, United Kingdom, Netherlands",
          "Slovenia, Croatia, Germany, Czech Republic, Qatar",
          "Poland,",
          "Bulgaria",
          "Ireland, United Kingdom, Italy, United States",
          "Philippines, United States",
          "Chile, Italy",
          "Finland, Germany",
          "West Germany",
          "Romania, United States",
          "United States, South Korea, Japan",
          "Lebanon, United Arab Emirates, France, Switzerland, Germany",
          "United States, Thailand",
          "France, Australia, Germany",
          "Spain, Belgium, Switzerland, United States, China, United Kingdom",
          "Ireland, United States",
          "Denmark, Zimbabwe",
          "United States, Canada, Germany",
          "Russia, United States, China",
          "Italy, Switzerland, France, Germany",
          "Singapore, France",
          "United States, United Kingdom, Canada",
          "United Kingdom, Poland, United States",
          "Canada, Ireland, United States",
          "United States, Morocco",
          "United Kingdom, United States, Dominican Republic",
          "Zimbabwe",
          "France, Belgium, China, United States",
          "Mauritius, South Africa",
          "China, United States, Australia",
          "Germany, France, Russia",
          "Netherlands, Belgium, United Kingdom, United States",
          "Indonesia, Netherlands",
          "United States, France, Canada, Lebanon, Qatar",
          "United Kingdom, Germany, Canada, United States",
          "Germany, United States, Canada",
          "United Kingdom, France, Germany, Spain",
          "Jordan",
          "Ireland, United States, France",
          "Hong Kong, Iceland, United States",
          "Australia, France",
          "Spain, Portugal",
          "Cambodia",
          "Taiwan, China",
          "Taiwan, Hong Kong, United States, China",
          "Finland, Germany, Belgium",
          "Canada, United States, United Kingdom, France, Luxembourg",
          "South Africa, Germany, Netherlands, France",
          "Argentina, France",
          "United Kingdom, Germany, Canada",
          "Canada, Brazil",
          "Germany, United Kingdom, United States",
          "United Kingdom, Australia",
          "United States, Senegal",
          "Germany, Australia",
          "United States, United Kingdom, Japan",
          "Germany, Australia, France, China",
          "Uruguay, Guatemala",
          "United States, France, Canada, Spain",
          "Argentina, Italy",
          "United Arab Emirates, United States, United Kingdom",
          "China, Japan",
          "Cambodia, United States",
          "Denmark, France, Belgium, Italy, Netherlands, United States, United Kingdom",
          "United Kingdom, Hong Kong",
          "United States, Australia, Mexico",
          "United Kingdom, Czech Republic, Germany, United States",
          "United States, France, Canada",
          "Spain, France, United States",
          "United Kingdom, Spain, United States",
          "Spain, France, Italy",
          "Spain, Mexico, France",
          "Russia, Poland, Serbia",
          "France, China, Japan, United States",
          "United States, Indonesia",
          "France, Canada, China, Cambodia",
          "Canada, Spain, France",
          "Canada, France, Italy, Morocco, United States",
          "Germany, Belgium",
          "Brazil, United States",
          "Colombia, Peru, United Kingdom",
          "United States, Mexico, Colombia",
          "Chile, Argentina",
          "Argentina, Uruguay, Serbia",
          "Venezuela",
          "United States, Canada, Belgium, United Kingdom",
          "Philippines, Singapore",
          "France, Netherlands, Singapore",
          "United Kingdom, Israel, Russia",
          "Italy, Switzerland, Albania, Poland",
          "Iran, France",
          "Kenya, United States",
          "United States, United Kingdom, Italy",
          "Netherlands, Denmark, South Africa",
          "United States, United Kingdom, Denmark, Sweden",
          "United States, France, United Kingdom, Japan",
          "Italy, Germany",
          "Uruguay, Argentina, Spain",
          "United Kingdom, Canada, United States, Cayman Islands",
          "United Kingdom, South Africa",
          "United Kingdom, Denmark, Canada, Croatia",
          "Finland, Sweden, Norway, Latvia, Germany",
          "Italy, Canada, France",
          "South Africa, United States, New Zealand, Canada",
          "United States, South Korea",
          "India, Turkey",
          "Spain, Cuba",
          "France, Qatar",
          "Italy, Turkey",
          "France, Belgium, Luxembourg, Cambodia,",
          "Argentina, Brazil, France, Poland, Germany, Denmark",
          "France, Algeria",
          "United States, Italy, United Kingdom, Liechtenstein",
          "United Arab Emirates, Jordan, Lebanon",
          "Austria, Germany",
          "United Kingdom, France, Belgium, United States, China",
          "United States, Nicaragua",
          "United States, France, Mexico",
          "United States, Brazil",
          "Norway, Iceland, United States",
          "United States, Chile, Israel",
          "Czech Republic, France",
          "United Kingdom, Norway, Denmark, Germany, Sweden",
          "United States, Australia, China",
          "China, Morocco, Hong Kong",
          "Australia, Iraq",
          "Denmark, France, United States, Sweden",
          "Canada, Luxembourg",
          "India, Germany, Austria",
          "Brazil, India, China, United States",
          "Denmark, Brazil, France, Portugal, Sweden",
          "Germany, Czech Republic",
          "United Kingdom, Czech Republic, United States, Germany, Bahamas",
          "United Kingdom, Singapore",
          "United States, Ireland, United Kingdom, India",
          "Norway, Sweden",
          "France, Switzerland, Spain, United States, United Arab Emirates",
          "Denmark, Germany, Belgium, United Kingdom, France, Sweden",
          "Denmark, Germany, Belgium, United Kingdom, France",
          "United States, India, South Korea, China",
          "Netherlands, United States",
          "United Kingdom, United States, Japan",
          "Spain, Germany, Denmark, United States",
          "Germany, United States, France",
          "United States, Nigeria",
          "Puerto Rico, United States, Colombia",
          "Chile, Argentina, France, Spain, United States",
          "United States, Colombia, Mexico",
          "United States, Botswana",
          "Italy, India",
          "Turkey, South Korea",
          "Switzerland, France",
          "Georgia, Germany, France",
          "Spain, Colombia",
          "France, New Zealand",
          "Canada, United States, Germany",
          "South Africa, Nigeria",
          "Canada, Japan, United States",
          "China, United States, United Kingdom",
          "India, Switzerland",
          "United States, Netherlands, Japan, France",
          "United States, New Zealand, Japan",
          "South Korea, Japan",
          "France, Japan, United States",
          "Philippines, Canada, United Kingdom, United States",
          "France, Malta, United States",
          "Portugal, France, Poland, United States",
          "Switzerland, Vatican City, Italy, Germany, France",
          "Canada, United States, Ireland",
          "United States, Norway, Canada",
          "United Kingdom, Kenya",
          "France, Belgium, Italy",
          "Spain, United Kingdom, United States",
          "France, United Kingdom",
          "Pakistan, United Arab Emirates",
          "Canada, Hungary, United States",
          "Germany, China, United Kingdom",
          "France, Germany, Czech Republic, Belgium",
          "Colombia, Mexico",
          "Colombia, United States",
          "United Kingdom, Pakistan",
          "India, Nepal",
          "France, Luxembourg, Canada",
          "Venezuela, Colombia",
          "United Kingdom, Thailand",
          "United Kingdom, France, Germany",
          "France, Morocco",
          "United Kingdom, Canada, Italy",
          "Chile, United States, France",
          "United States,",
          "Argentina, Chile, Peru",
          "China, United Kingdom",
          "Egypt, Algeria",
          "Turkey, France, Germany, Poland",
          "Australia, New Zealand, United States",
          "Uruguay, Argentina",
          "Canada, South Africa",
          "United States, Australia, Samoa, United Kingdom",
          "South Korea, France",
          "Germany, United States, Hong Kong, Singapore",
          "United States, Greece, Brazil",
          "United States, Philippines",
          "Norway, United States",
          "Malaysia, Singapore, Hong Kong",
          "Denmark, China",
          "Denmark, Singapore, Canada, United States",
          "France, Germany, Switzerland",
          "Mexico, Argentina",
          "Netherlands, Belgium, Germany, Jordan",
          "United States, Taiwan",
          "United Kingdom, South Korea",
          "Nigeria, United Kingdom",
          "United Kingdom, Belgium, Sweden",
          "Italy, United States, Argentina",
          "Mexico, United States, Spain, Colombia",
          "Germany, France, Luxembourg, United Kingdom, United States",
          "China, India, Nepal",
          "Norway, Denmark, Sweden",
          "Brazil, France, Germany",
          "Uruguay, Germany",
          "Turkey, Azerbaijan",
          "United States, Cambodia",
          "Israel, Sweden, Germany, Netherlands",
          "China, Germany, India, United States",
          "United Kingdom, West Germany",
          "India, Mexico",
          "New Zealand, United Kingdom",
          "Germany, Sri Lanka",
          "United Kingdom, Poland",
          "United States, Bermuda, Ecuador",
          "Norway, United Kingdom, France, Ireland",
          "United States, Spain, Italy",
          "United States, China, Colombia",
          "Canada, United States, Cayman Islands",
          "United States, India, Bangladesh",
          "Netherlands, Germany, Italy, Canada",
          "United States, China, Hong Kong",
          "France, Japan",
          "United Kingdom, France, Belgium, United States",
          "Canada, Spain",
          "Germany, United States, Sweden",
          "Poland, West Germany",
          "Italy, United Kingdom, France",
          "China, Taiwan",
          "France, United Kingdom, India",
          "United States, Canada, France",
          "Argentina, United States, Mexico",
          "Canada, Germany, France, United States",
          "Soviet Union, India",
          "Taiwan, China, France, United States",
          "France, Belgium, Spain"
         ],
         "type": "choropleth",
         "z": [
          2546,
          923,
          396,
          224,
          183,
          177,
          134,
          115,
          101,
          100,
          100,
          81,
          78,
          72,
          71,
          70,
          70,
          64,
          61,
          60,
          57,
          57,
          52,
          50,
          42,
          39,
          37,
          31,
          27,
          25,
          23,
          22,
          20,
          18,
          16,
          16,
          16,
          14,
          14,
          14,
          14,
          14,
          13,
          13,
          12,
          12,
          12,
          11,
          11,
          11,
          11,
          11,
          10,
          10,
          10,
          9,
          9,
          8,
          8,
          8,
          7,
          7,
          6,
          6,
          6,
          6,
          6,
          6,
          5,
          5,
          5,
          5,
          5,
          5,
          5,
          4,
          4,
          4,
          4,
          4,
          4,
          4,
          4,
          4,
          4,
          4,
          4,
          4,
          4,
          4,
          3,
          3,
          3,
          3,
          3,
          3,
          3,
          3,
          3,
          3,
          3,
          3,
          3,
          3,
          3,
          3,
          3,
          3,
          3,
          3,
          3,
          3,
          2,
          2,
          2,
          2,
          2,
          2,
          2,
          2,
          2,
          2,
          2,
          2,
          2,
          2,
          2,
          2,
          2,
          2,
          2,
          2,
          2,
          2,
          2,
          2,
          2,
          2,
          2,
          2,
          2,
          2,
          2,
          2,
          2,
          2,
          2,
          2,
          2,
          2,
          2,
          2,
          2,
          2,
          2,
          2,
          2,
          2,
          2,
          2,
          2,
          2,
          2,
          2,
          1,
          1,
          1,
          1,
          1,
          1,
          1,
          1,
          1,
          1,
          1,
          1,
          1,
          1,
          1,
          1,
          1,
          1,
          1,
          1,
          1,
          1,
          1,
          1,
          1,
          1,
          1,
          1,
          1,
          1,
          1,
          1,
          1,
          1,
          1,
          1,
          1,
          1,
          1,
          1,
          1,
          1,
          1,
          1,
          1,
          1,
          1,
          1,
          1,
          1,
          1,
          1,
          1,
          1,
          1,
          1,
          1,
          1,
          1,
          1,
          1,
          1,
          1,
          1,
          1,
          1,
          1,
          1,
          1,
          1,
          1,
          1,
          1,
          1,
          1,
          1,
          1,
          1,
          1,
          1,
          1,
          1,
          1,
          1,
          1,
          1,
          1,
          1,
          1,
          1,
          1,
          1,
          1,
          1,
          1,
          1,
          1,
          1,
          1,
          1,
          1,
          1,
          1,
          1,
          1,
          1,
          1,
          1,
          1,
          1,
          1,
          1,
          1,
          1,
          1,
          1,
          1,
          1,
          1,
          1,
          1,
          1,
          1,
          1,
          1,
          1,
          1,
          1,
          1,
          1,
          1,
          1,
          1,
          1,
          1,
          1,
          1,
          1,
          1,
          1,
          1,
          1,
          1,
          1,
          1,
          1,
          1,
          1,
          1,
          1,
          1,
          1,
          1,
          1,
          1,
          1,
          1,
          1,
          1,
          1,
          1,
          1,
          1,
          1,
          1,
          1,
          1,
          1,
          1,
          1,
          1,
          1,
          1,
          1,
          1,
          1,
          1,
          1,
          1,
          1,
          1,
          1,
          1,
          1,
          1,
          1,
          1,
          1,
          1,
          1,
          1,
          1,
          1,
          1,
          1,
          1,
          1,
          1,
          1,
          1,
          1,
          1,
          1,
          1,
          1,
          1,
          1,
          1,
          1,
          1,
          1,
          1,
          1,
          1,
          1,
          1,
          1,
          1,
          1,
          1,
          1,
          1,
          1,
          1,
          1,
          1,
          1,
          1,
          1,
          1,
          1,
          1,
          1,
          1,
          1,
          1,
          1,
          1,
          1,
          1,
          1,
          1,
          1,
          1,
          1,
          1,
          1,
          1,
          1,
          1,
          1,
          1,
          1,
          1,
          1,
          1,
          1,
          1,
          1,
          1,
          1,
          1,
          1,
          1,
          1,
          1,
          1,
          1,
          1,
          1,
          1,
          1,
          1,
          1,
          1,
          1,
          1,
          1,
          1,
          1,
          1,
          1,
          1,
          1,
          1,
          1,
          1,
          1,
          1,
          1,
          1,
          1,
          1,
          1,
          1,
          1,
          1,
          1,
          1,
          1,
          1,
          1,
          1,
          1,
          1,
          1,
          1,
          1,
          1,
          1,
          1,
          1,
          1,
          1,
          1,
          1,
          1,
          1,
          1,
          1,
          1,
          1,
          1,
          1,
          1,
          1,
          1,
          1,
          1,
          1,
          1,
          1,
          1,
          1,
          1,
          1,
          1,
          1,
          1,
          1,
          1,
          1,
          1,
          1,
          1,
          1,
          1,
          1,
          1,
          1,
          1,
          1,
          1,
          1,
          1,
          1,
          1,
          1,
          1,
          1,
          1,
          1,
          1,
          1,
          1,
          1,
          1,
          1,
          1,
          1,
          1,
          1,
          1,
          1,
          1,
          1,
          1,
          1,
          1,
          1,
          1,
          1,
          1,
          1,
          1,
          1,
          1,
          1,
          1,
          1,
          1,
          1,
          1,
          1,
          1,
          1,
          1,
          1,
          1,
          1,
          1,
          1,
          1,
          1,
          1,
          1,
          1,
          1,
          1,
          1,
          1,
          1,
          1,
          1,
          1,
          1,
          1,
          1,
          1,
          1,
          1,
          1,
          1,
          1,
          1,
          1,
          1,
          1,
          1,
          1,
          1,
          1,
          1,
          1,
          1,
          1,
          1,
          1,
          1,
          1,
          1,
          1,
          1,
          1,
          1,
          1,
          1,
          1,
          1,
          1,
          1,
          1,
          1,
          1,
          1,
          1,
          1,
          1,
          1,
          1,
          1,
          1,
          1,
          1,
          1,
          1,
          1,
          1,
          1,
          1,
          1,
          1,
          1,
          1,
          1,
          1,
          1,
          1,
          1,
          1,
          1,
          1,
          1,
          1,
          1,
          1,
          1,
          1,
          1,
          1,
          1,
          1,
          1,
          1,
          1,
          1,
          1,
          1,
          1,
          1,
          1,
          1,
          1,
          1,
          1,
          1,
          1,
          1,
          1,
          1,
          1,
          1,
          1,
          1,
          1,
          1,
          1
         ]
        }
       ],
       "layout": {
        "template": {
         "data": {
          "bar": [
           {
            "error_x": {
             "color": "#2a3f5f"
            },
            "error_y": {
             "color": "#2a3f5f"
            },
            "marker": {
             "line": {
              "color": "#E5ECF6",
              "width": 0.5
             },
             "pattern": {
              "fillmode": "overlay",
              "size": 10,
              "solidity": 0.2
             }
            },
            "type": "bar"
           }
          ],
          "barpolar": [
           {
            "marker": {
             "line": {
              "color": "#E5ECF6",
              "width": 0.5
             },
             "pattern": {
              "fillmode": "overlay",
              "size": 10,
              "solidity": 0.2
             }
            },
            "type": "barpolar"
           }
          ],
          "carpet": [
           {
            "aaxis": {
             "endlinecolor": "#2a3f5f",
             "gridcolor": "white",
             "linecolor": "white",
             "minorgridcolor": "white",
             "startlinecolor": "#2a3f5f"
            },
            "baxis": {
             "endlinecolor": "#2a3f5f",
             "gridcolor": "white",
             "linecolor": "white",
             "minorgridcolor": "white",
             "startlinecolor": "#2a3f5f"
            },
            "type": "carpet"
           }
          ],
          "choropleth": [
           {
            "colorbar": {
             "outlinewidth": 0,
             "ticks": ""
            },
            "type": "choropleth"
           }
          ],
          "contour": [
           {
            "colorbar": {
             "outlinewidth": 0,
             "ticks": ""
            },
            "colorscale": [
             [
              0,
              "#0d0887"
             ],
             [
              0.1111111111111111,
              "#46039f"
             ],
             [
              0.2222222222222222,
              "#7201a8"
             ],
             [
              0.3333333333333333,
              "#9c179e"
             ],
             [
              0.4444444444444444,
              "#bd3786"
             ],
             [
              0.5555555555555556,
              "#d8576b"
             ],
             [
              0.6666666666666666,
              "#ed7953"
             ],
             [
              0.7777777777777778,
              "#fb9f3a"
             ],
             [
              0.8888888888888888,
              "#fdca26"
             ],
             [
              1,
              "#f0f921"
             ]
            ],
            "type": "contour"
           }
          ],
          "contourcarpet": [
           {
            "colorbar": {
             "outlinewidth": 0,
             "ticks": ""
            },
            "type": "contourcarpet"
           }
          ],
          "heatmap": [
           {
            "colorbar": {
             "outlinewidth": 0,
             "ticks": ""
            },
            "colorscale": [
             [
              0,
              "#0d0887"
             ],
             [
              0.1111111111111111,
              "#46039f"
             ],
             [
              0.2222222222222222,
              "#7201a8"
             ],
             [
              0.3333333333333333,
              "#9c179e"
             ],
             [
              0.4444444444444444,
              "#bd3786"
             ],
             [
              0.5555555555555556,
              "#d8576b"
             ],
             [
              0.6666666666666666,
              "#ed7953"
             ],
             [
              0.7777777777777778,
              "#fb9f3a"
             ],
             [
              0.8888888888888888,
              "#fdca26"
             ],
             [
              1,
              "#f0f921"
             ]
            ],
            "type": "heatmap"
           }
          ],
          "heatmapgl": [
           {
            "colorbar": {
             "outlinewidth": 0,
             "ticks": ""
            },
            "colorscale": [
             [
              0,
              "#0d0887"
             ],
             [
              0.1111111111111111,
              "#46039f"
             ],
             [
              0.2222222222222222,
              "#7201a8"
             ],
             [
              0.3333333333333333,
              "#9c179e"
             ],
             [
              0.4444444444444444,
              "#bd3786"
             ],
             [
              0.5555555555555556,
              "#d8576b"
             ],
             [
              0.6666666666666666,
              "#ed7953"
             ],
             [
              0.7777777777777778,
              "#fb9f3a"
             ],
             [
              0.8888888888888888,
              "#fdca26"
             ],
             [
              1,
              "#f0f921"
             ]
            ],
            "type": "heatmapgl"
           }
          ],
          "histogram": [
           {
            "marker": {
             "pattern": {
              "fillmode": "overlay",
              "size": 10,
              "solidity": 0.2
             }
            },
            "type": "histogram"
           }
          ],
          "histogram2d": [
           {
            "colorbar": {
             "outlinewidth": 0,
             "ticks": ""
            },
            "colorscale": [
             [
              0,
              "#0d0887"
             ],
             [
              0.1111111111111111,
              "#46039f"
             ],
             [
              0.2222222222222222,
              "#7201a8"
             ],
             [
              0.3333333333333333,
              "#9c179e"
             ],
             [
              0.4444444444444444,
              "#bd3786"
             ],
             [
              0.5555555555555556,
              "#d8576b"
             ],
             [
              0.6666666666666666,
              "#ed7953"
             ],
             [
              0.7777777777777778,
              "#fb9f3a"
             ],
             [
              0.8888888888888888,
              "#fdca26"
             ],
             [
              1,
              "#f0f921"
             ]
            ],
            "type": "histogram2d"
           }
          ],
          "histogram2dcontour": [
           {
            "colorbar": {
             "outlinewidth": 0,
             "ticks": ""
            },
            "colorscale": [
             [
              0,
              "#0d0887"
             ],
             [
              0.1111111111111111,
              "#46039f"
             ],
             [
              0.2222222222222222,
              "#7201a8"
             ],
             [
              0.3333333333333333,
              "#9c179e"
             ],
             [
              0.4444444444444444,
              "#bd3786"
             ],
             [
              0.5555555555555556,
              "#d8576b"
             ],
             [
              0.6666666666666666,
              "#ed7953"
             ],
             [
              0.7777777777777778,
              "#fb9f3a"
             ],
             [
              0.8888888888888888,
              "#fdca26"
             ],
             [
              1,
              "#f0f921"
             ]
            ],
            "type": "histogram2dcontour"
           }
          ],
          "mesh3d": [
           {
            "colorbar": {
             "outlinewidth": 0,
             "ticks": ""
            },
            "type": "mesh3d"
           }
          ],
          "parcoords": [
           {
            "line": {
             "colorbar": {
              "outlinewidth": 0,
              "ticks": ""
             }
            },
            "type": "parcoords"
           }
          ],
          "pie": [
           {
            "automargin": true,
            "type": "pie"
           }
          ],
          "scatter": [
           {
            "fillpattern": {
             "fillmode": "overlay",
             "size": 10,
             "solidity": 0.2
            },
            "type": "scatter"
           }
          ],
          "scatter3d": [
           {
            "line": {
             "colorbar": {
              "outlinewidth": 0,
              "ticks": ""
             }
            },
            "marker": {
             "colorbar": {
              "outlinewidth": 0,
              "ticks": ""
             }
            },
            "type": "scatter3d"
           }
          ],
          "scattercarpet": [
           {
            "marker": {
             "colorbar": {
              "outlinewidth": 0,
              "ticks": ""
             }
            },
            "type": "scattercarpet"
           }
          ],
          "scattergeo": [
           {
            "marker": {
             "colorbar": {
              "outlinewidth": 0,
              "ticks": ""
             }
            },
            "type": "scattergeo"
           }
          ],
          "scattergl": [
           {
            "marker": {
             "colorbar": {
              "outlinewidth": 0,
              "ticks": ""
             }
            },
            "type": "scattergl"
           }
          ],
          "scattermapbox": [
           {
            "marker": {
             "colorbar": {
              "outlinewidth": 0,
              "ticks": ""
             }
            },
            "type": "scattermapbox"
           }
          ],
          "scatterpolar": [
           {
            "marker": {
             "colorbar": {
              "outlinewidth": 0,
              "ticks": ""
             }
            },
            "type": "scatterpolar"
           }
          ],
          "scatterpolargl": [
           {
            "marker": {
             "colorbar": {
              "outlinewidth": 0,
              "ticks": ""
             }
            },
            "type": "scatterpolargl"
           }
          ],
          "scatterternary": [
           {
            "marker": {
             "colorbar": {
              "outlinewidth": 0,
              "ticks": ""
             }
            },
            "type": "scatterternary"
           }
          ],
          "surface": [
           {
            "colorbar": {
             "outlinewidth": 0,
             "ticks": ""
            },
            "colorscale": [
             [
              0,
              "#0d0887"
             ],
             [
              0.1111111111111111,
              "#46039f"
             ],
             [
              0.2222222222222222,
              "#7201a8"
             ],
             [
              0.3333333333333333,
              "#9c179e"
             ],
             [
              0.4444444444444444,
              "#bd3786"
             ],
             [
              0.5555555555555556,
              "#d8576b"
             ],
             [
              0.6666666666666666,
              "#ed7953"
             ],
             [
              0.7777777777777778,
              "#fb9f3a"
             ],
             [
              0.8888888888888888,
              "#fdca26"
             ],
             [
              1,
              "#f0f921"
             ]
            ],
            "type": "surface"
           }
          ],
          "table": [
           {
            "cells": {
             "fill": {
              "color": "#EBF0F8"
             },
             "line": {
              "color": "white"
             }
            },
            "header": {
             "fill": {
              "color": "#C8D4E3"
             },
             "line": {
              "color": "white"
             }
            },
            "type": "table"
           }
          ]
         },
         "layout": {
          "annotationdefaults": {
           "arrowcolor": "#2a3f5f",
           "arrowhead": 0,
           "arrowwidth": 1
          },
          "autotypenumbers": "strict",
          "coloraxis": {
           "colorbar": {
            "outlinewidth": 0,
            "ticks": ""
           }
          },
          "colorscale": {
           "diverging": [
            [
             0,
             "#8e0152"
            ],
            [
             0.1,
             "#c51b7d"
            ],
            [
             0.2,
             "#de77ae"
            ],
            [
             0.3,
             "#f1b6da"
            ],
            [
             0.4,
             "#fde0ef"
            ],
            [
             0.5,
             "#f7f7f7"
            ],
            [
             0.6,
             "#e6f5d0"
            ],
            [
             0.7,
             "#b8e186"
            ],
            [
             0.8,
             "#7fbc41"
            ],
            [
             0.9,
             "#4d9221"
            ],
            [
             1,
             "#276419"
            ]
           ],
           "sequential": [
            [
             0,
             "#0d0887"
            ],
            [
             0.1111111111111111,
             "#46039f"
            ],
            [
             0.2222222222222222,
             "#7201a8"
            ],
            [
             0.3333333333333333,
             "#9c179e"
            ],
            [
             0.4444444444444444,
             "#bd3786"
            ],
            [
             0.5555555555555556,
             "#d8576b"
            ],
            [
             0.6666666666666666,
             "#ed7953"
            ],
            [
             0.7777777777777778,
             "#fb9f3a"
            ],
            [
             0.8888888888888888,
             "#fdca26"
            ],
            [
             1,
             "#f0f921"
            ]
           ],
           "sequentialminus": [
            [
             0,
             "#0d0887"
            ],
            [
             0.1111111111111111,
             "#46039f"
            ],
            [
             0.2222222222222222,
             "#7201a8"
            ],
            [
             0.3333333333333333,
             "#9c179e"
            ],
            [
             0.4444444444444444,
             "#bd3786"
            ],
            [
             0.5555555555555556,
             "#d8576b"
            ],
            [
             0.6666666666666666,
             "#ed7953"
            ],
            [
             0.7777777777777778,
             "#fb9f3a"
            ],
            [
             0.8888888888888888,
             "#fdca26"
            ],
            [
             1,
             "#f0f921"
            ]
           ]
          },
          "colorway": [
           "#636efa",
           "#EF553B",
           "#00cc96",
           "#ab63fa",
           "#FFA15A",
           "#19d3f3",
           "#FF6692",
           "#B6E880",
           "#FF97FF",
           "#FECB52"
          ],
          "font": {
           "color": "#2a3f5f"
          },
          "geo": {
           "bgcolor": "white",
           "lakecolor": "white",
           "landcolor": "#E5ECF6",
           "showlakes": true,
           "showland": true,
           "subunitcolor": "white"
          },
          "hoverlabel": {
           "align": "left"
          },
          "hovermode": "closest",
          "mapbox": {
           "style": "light"
          },
          "paper_bgcolor": "white",
          "plot_bgcolor": "#E5ECF6",
          "polar": {
           "angularaxis": {
            "gridcolor": "white",
            "linecolor": "white",
            "ticks": ""
           },
           "bgcolor": "#E5ECF6",
           "radialaxis": {
            "gridcolor": "white",
            "linecolor": "white",
            "ticks": ""
           }
          },
          "scene": {
           "xaxis": {
            "backgroundcolor": "#E5ECF6",
            "gridcolor": "white",
            "gridwidth": 2,
            "linecolor": "white",
            "showbackground": true,
            "ticks": "",
            "zerolinecolor": "white"
           },
           "yaxis": {
            "backgroundcolor": "#E5ECF6",
            "gridcolor": "white",
            "gridwidth": 2,
            "linecolor": "white",
            "showbackground": true,
            "ticks": "",
            "zerolinecolor": "white"
           },
           "zaxis": {
            "backgroundcolor": "#E5ECF6",
            "gridcolor": "white",
            "gridwidth": 2,
            "linecolor": "white",
            "showbackground": true,
            "ticks": "",
            "zerolinecolor": "white"
           }
          },
          "shapedefaults": {
           "line": {
            "color": "#2a3f5f"
           }
          },
          "ternary": {
           "aaxis": {
            "gridcolor": "white",
            "linecolor": "white",
            "ticks": ""
           },
           "baxis": {
            "gridcolor": "white",
            "linecolor": "white",
            "ticks": ""
           },
           "bgcolor": "#E5ECF6",
           "caxis": {
            "gridcolor": "white",
            "linecolor": "white",
            "ticks": ""
           }
          },
          "title": {
           "x": 0.05
          },
          "xaxis": {
           "automargin": true,
           "gridcolor": "white",
           "linecolor": "white",
           "ticks": "",
           "title": {
            "standoff": 15
           },
           "zerolinecolor": "white",
           "zerolinewidth": 2
          },
          "yaxis": {
           "automargin": true,
           "gridcolor": "white",
           "linecolor": "white",
           "ticks": "",
           "title": {
            "standoff": 15
           },
           "zerolinecolor": "white",
           "zerolinewidth": 2
          }
         }
        }
       }
      }
     },
     "metadata": {},
     "output_type": "display_data"
    }
   ],
   "source": [
    "Countries = sample[sample['country'] != 'country unavailable']\n",
    "\n",
    "Countries = Countries['country'].value_counts()\n",
    "iplot([go.Choropleth(\n",
    "             locationmode='country names',\n",
    "             locations=Countries.index,\n",
    "             z=Countries.values\n",
    "         )])"
   ]
  },
  {
   "cell_type": "markdown",
   "metadata": {},
   "source": [
    "Based on the map above, countries producing Netflix content are indicated in a deep shade of blue. It is noteworthy that nearly half of all countries worldwide are contributors to Netflix content production."
   ]
  },
  {
   "cell_type": "markdown",
   "metadata": {},
   "source": [
    "### The Number of Content Titles by Rating"
   ]
  },
  {
   "cell_type": "code",
   "execution_count": 38,
   "metadata": {},
   "outputs": [
    {
     "data": {
      "image/png": "[encoded data removed]",
      "text/plain": [
       "<Figure size 1000x800 with 1 Axes>"
      ]
     },
     "metadata": {},
     "output_type": "display_data"
    }
   ],
   "source": [
    "plt.figure(figsize=(10, 8))\n",
    "sns.countplot(y='rating', data=sample, order=sample.rating.value_counts().index.to_list(), hue='rating', palette='deep',legend=False)\n",
    "plt.title('Number of Content Titles by Rating', fontsize=21)\n",
    "plt.ylabel('Rating')\n",
    "plt.xlabel('Counts')\n",
    "plt.show()"
   ]
  },
  {
   "cell_type": "markdown",
   "metadata": {},
   "source": [
    "Examining the provided chart reveals the distribution of content titles across different ratings. The rating with the highest count of content titles is TV-MA, designed for adult audiences and potentially unsuitable for viewers under 17. Conversely, the rating with the lowest number of content titles is NC-17, indicating content not suitable for children under 17."
   ]
  },
  {
   "cell_type": "markdown",
   "metadata": {},
   "source": [
    "### Top 10 Years with Largest Number of Releases"
   ]
  },
  {
   "cell_type": "code",
   "execution_count": 39,
   "metadata": {},
   "outputs": [
    {
     "data": {
      "image/png": "[encoded data removed]",
      "text/plain": [
       "<Figure size 1000x800 with 1 Axes>"
      ]
     },
     "metadata": {},
     "output_type": "display_data"
    }
   ],
   "source": [
    "plt.figure(figsize=(10, 8))\n",
    "sns.countplot(x='release_year', data=sample, order=sample.release_year.value_counts().head(10).index, hue='release_year', palette='flare',legend=False)\n",
    "plt.title('Number of Content Titles by Year', fontsize=21)\n",
    "plt.ylabel('No.Of.Titles')\n",
    "plt.xlabel('Year')\n",
    "plt.show()"
   ]
  },
  {
   "cell_type": "markdown",
   "metadata": {},
   "source": [
    "Analyzing the presented graph, it's evident that the count of content titles on Netflix exhibited a consistent upward trend from 2010 to 2020. Nevertheless, in 2020, there was a marginal decrease in the number of content titles compared to the preceding year. This dip may be attributed to the onset of Covid-19 in early 2020."
   ]
  },
  {
   "cell_type": "markdown",
   "metadata": {},
   "source": [
    "### Top 10 Actors in the most number of titles"
   ]
  },
  {
   "cell_type": "code",
   "execution_count": 40,
   "metadata": {},
   "outputs": [
    {
     "data": {
      "image/png": "[encoded data removed]",
      "text/plain": [
       "<Figure size 1000x1000 with 1 Axes>"
      ]
     },
     "metadata": {},
     "output_type": "display_data"
    }
   ],
   "source": [
    "plt.figure(figsize=(10,10))\n",
    "netflix_cast = sample[sample.cast != 'cast unavailable'].set_index('title').cast.str.split(', ', expand=True).stack().reset_index(level=1, drop=True)\n",
    "netflix_cast = netflix_cast.value_counts().head(10)\n",
    "\n",
    "sns.barplot(x=netflix_cast, y=netflix_cast.index, hue=netflix_cast.index, palette='plasma', saturation=.2, legend=False)\n",
    "plt.title('Top 10 Actors by Number of Titles', fontsize=21)\n",
    "plt.xlabel('Number of Movies')\n",
    "plt.ylabel('Actors')\n",
    "plt.show()"
   ]
  },
  {
   "cell_type": "markdown",
   "metadata": {},
   "source": [
    "\n",
    "The image above displays the top 10 actors with the highest count of content titles on Netflix. Notably, Anupam Kher, succeeding Shah Rukh Khan, claims the leading position. Anupam Kher, an Indian actor, boasts a remarkable portfolio with over 40 content titles on Netflix."
   ]
  },
  {
   "cell_type": "markdown",
   "metadata": {},
   "source": [
    "### Top 10 Genres with the Largest Number of Content Titles"
   ]
  },
  {
   "cell_type": "code",
   "execution_count": 41,
   "metadata": {},
   "outputs": [
    {
     "data": {
      "image/png": "[encoded data removed]",
      "text/plain": [
       "<Figure size 1000x1000 with 1 Axes>"
      ]
     },
     "metadata": {},
     "output_type": "display_data"
    }
   ],
   "source": [
    "top_genres = sample.set_index('title')['genres'].str.split(', ', expand=True).stack().reset_index(level=1, drop=True)\n",
    "\n",
    "genre_counts = top_genres.value_counts().head(10)\n",
    "\n",
    "plt.figure(figsize=(10, 10))\n",
    "sns.barplot(x=genre_counts, y=genre_counts.index, hue=genre_counts.index, palette='coolwarm', saturation=.6, legend=False)\n",
    "plt.title('Top 10 Genres with the Largest Number of Content Titles', fontsize=21)\n",
    "plt.xlabel('Number of Titles')\n",
    "plt.ylabel('Genres')\n",
    "plt.show()"
   ]
  },
  {
   "cell_type": "markdown",
   "metadata": {},
   "source": [
    "Examining the chart provided, it is evident that the top 10 genres with the highest number of content titles are displayed. Notably, the genre claiming the first position is International Movies, boasting a substantial 23,000+ content titles."
   ]
  },
  {
   "cell_type": "markdown",
   "metadata": {},
   "source": [
    "### Top 10 Content Producing Countries"
   ]
  },
  {
   "cell_type": "code",
   "execution_count": 42,
   "metadata": {},
   "outputs": [
    {
     "data": {
      "image/png": "[encoded data removed]",
      "text/plain": [
       "<Figure size 1000x1000 with 1 Axes>"
      ]
     },
     "metadata": {},
     "output_type": "display_data"
    }
   ],
   "source": [
    "plt.figure(figsize=(10, 10))\n",
    "sample1 = sample[sample['country']!= 'country unavailable'] \n",
    "sns.countplot(x='country', data=sample1, order=sample1.country.value_counts().head(10).index.to_list(), hue='country', palette='deep6',saturation=.8,legend=False)\n",
    "plt.title('Number of Content Titles by Rating', fontsize=21)\n",
    "plt.ylabel('No of Movies')\n",
    "plt.xlabel('Countries')\n",
    "plt.show()"
   ]
  },
  {
   "cell_type": "markdown",
   "metadata": {},
   "source": [
    "\n",
    "Based on the information presented in the chart, the top 10 countries contributing the highest number of content titles to Netflix are highlighted. The United States secures the leading position with a noteworthy 2,500+ Netflix content titles. India follows closely as the second-largest content producer on Netflix, contributing approximately 800+ content titles."
   ]
  },
  {
   "cell_type": "markdown",
   "metadata": {},
   "source": [
    "### Conclusion"
   ]
  },
  {
   "cell_type": "markdown",
   "metadata": {},
   "source": [
    "\n",
    "\n",
    "1 Top Contributing Countries: The United States and India emerge as the top contributors to Netflix content, with the United States leading with over 2,500 titles, followed by India with approximately 800 titles. This indicates a significant concentration of content production in these two countries.\n",
    "\n",
    "2 Content Type Distribution: Movies constitute the majority of Netflix content, comprising 69.1% of the total, while TV shows make up the remaining 30.9%. This distribution suggests a strong emphasis on movies within the platform.\n",
    "\n",
    "3 Top Genres: The genre with the highest number of content titles is International Movies, boasting over 23,000 titles. This dominance highlights the popularity and diversity of international cinema on Netflix.\n",
    "\n",
    "4 Global Participation: The map indicates a widespread global participation in Netflix content production, with nearly half of all countries contributing. This underscores the platform's global reach and its ability to source content from various regions.\n",
    "\n",
    "5 Rating Distribution: The TV-MA rating, designed for adult audiences, has the highest count of content titles, emphasizing a significant portion of mature content on Netflix. Conversely, the NC-17 rating, indicating content not suitable for children under 17, has the lowest count.\n",
    "\n",
    "6 Content Titles Trend: The graph depicting the count of content titles over the years shows a consistent upward trend from 2010 to 2020. However, there is a marginal decrease in 2020, potentially attributed to the impact of the Covid-19 pandemic, which disrupted various industries, including entertainment.\n",
    "\n",
    "7 Top Actors: Anupam Kher emerges as the actor with the highest count of content titles on Netflix, surpassing Shah Rukh Khan. This highlights the significance of individual actors in contributing to the platform's content library.\n",
    "\n",
    "In conclusion, the data provides insights into the geographical distribution, content types, genres, ratings, and trends in Netflix content. These findings can inform strategic decisions for content acquisition, production, and audience targeting on the platform."
   ]
  }
 ],
 "metadata": {
  "kernelspec": {
   "display_name": "Python 3",
   "language": "python",
   "name": "python3"
  },
  "language_info": {
   "codemirror_mode": {
    "name": "ipython",
    "version": 3
   },
   "file_extension": ".py",
   "mimetype": "text/x-python",
   "name": "python",
   "nbconvert_exporter": "python",
   "pygments_lexer": "ipython3",
   "version": "3.12.1"
  }
 },
 "nbformat": 4,
 "nbformat_minor": 2
}
